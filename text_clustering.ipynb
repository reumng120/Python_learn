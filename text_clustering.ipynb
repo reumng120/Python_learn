{
 "cells": [
  {
   "cell_type": "markdown",
   "metadata": {},
   "source": [
    "## 寫爬蟲抓蘋果新聞"
   ]
  },
  {
   "cell_type": "code",
   "execution_count": 5,
   "metadata": {
    "collapsed": false
   },
   "outputs": [],
   "source": [
    "import requests\n",
    "from bs4 import BeautifulSoup\n",
    "domain = 'http://www.appledaily.com.tw'\n",
    "url_ary = []\n",
    "for i in range(1,40):\n",
    "    res = requests.get('http://www.appledaily.com.tw/realtimenews/section/new/{}'.format(i))\n",
    "    soup = BeautifulSoup(res.text, 'html.parser')\n",
    "    for a in soup.select('.rtddt a'):\n",
    "        url_ary.append(domain + a['href'])"
   ]
  },
  {
   "cell_type": "code",
   "execution_count": 10,
   "metadata": {
    "collapsed": false
   },
   "outputs": [],
   "source": [
    "#print(url_ary)"
   ]
  },
  {
   "cell_type": "code",
   "execution_count": 12,
   "metadata": {
    "collapsed": false
   },
   "outputs": [],
   "source": [
    "articles = []\n",
    "#url = 'http://www.appledaily.com.tw/realtimenews/article/international/20170616/1141992/%E6%B8%AF%E8%AD%B0%E5%93%A1%E8%A2%AB%E6%8C%87%E6%94%B6%E5%8F%97%E9%BB%8E%E6%99%BA%E8%8B%B1%E6%8D%90%E6%AC%BE%E6%A1%88%E3%80%80%E4%B8%8B%E6%9C%8831%E6%97%A5%E8%A3%81%E6%B1%BA'\n",
    "for url in url_ary:\n",
    "    try:\n",
    "        dic = {}\n",
    "        res = requests.get(url)\n",
    "        soup = BeautifulSoup(res.text, 'html.parser')\n",
    "        dic['title'] = soup.select('#h1')[0].text\n",
    "        dic['summary']=soup.select('#summary')[0].text\n",
    "        dic['url'] = url\n",
    "        articles.append(dic)\n",
    "    except:\n",
    "        pass"
   ]
  },
  {
   "cell_type": "code",
   "execution_count": 18,
   "metadata": {
    "collapsed": true
   },
   "outputs": [],
   "source": [
    "import pandas\n",
    "newsdf = pandas.DataFrame(articles)\n",
    "newsdf = newdf.drop_duplicates()\n",
    "newsdf.to_excel('news.xlsx')"
   ]
  },
  {
   "cell_type": "markdown",
   "metadata": {},
   "source": [
    "## 讀取新聞資料"
   ]
  },
  {
   "cell_type": "code",
   "execution_count": 21,
   "metadata": {
    "collapsed": true
   },
   "outputs": [],
   "source": [
    "import pandas\n",
    "newsdf = pandas.read_excel('news.xlsx')"
   ]
  },
  {
   "cell_type": "code",
   "execution_count": 22,
   "metadata": {
    "collapsed": false
   },
   "outputs": [
    {
     "data": {
      "text/html": [
       "<div>\n",
       "<table border=\"1\" class=\"dataframe\">\n",
       "  <thead>\n",
       "    <tr style=\"text-align: right;\">\n",
       "      <th></th>\n",
       "      <th>summary</th>\n",
       "      <th>title</th>\n",
       "      <th>url</th>\n",
       "    </tr>\n",
       "  </thead>\n",
       "  <tbody>\n",
       "    <tr>\n",
       "      <th>0</th>\n",
       "      <td>（更新：影片）連日豪大雨，連續多次民調倒數第一的嘉義市長涂醒哲，罕見地透過區政系統問各里里長...</td>\n",
       "      <td>吐氣揚眉「這次沒淹」　涂醒哲公開信宣揚</td>\n",
       "      <td>http://www.appledaily.com.tw/realtimenews/arti...</td>\n",
       "    </tr>\n",
       "    <tr>\n",
       "      <th>1</th>\n",
       "      <td>（更新戰況）15:288局下，2出局二、三壘有人，陽岱鋼未能把握機會，擊出三壘滾地球出局。雙...</td>\n",
       "      <td>【更新】陽岱鋼第4打席未能建功　雙方3比3平手</td>\n",
       "      <td>http://www.appledaily.com.tw/realtimenews/arti...</td>\n",
       "    </tr>\n",
       "    <tr>\n",
       "      <th>2</th>\n",
       "      <td>（更新：新增影片）高雄市黃姓男子（55歲，恐嚇、毀損前科）在傳統市場賣魚多年，覺得賣魚賺不了...</td>\n",
       "      <td>「蚵仔」當暗號　魚販賣毒被逮還比Ya！</td>\n",
       "      <td>http://www.appledaily.com.tw/realtimenews/arti...</td>\n",
       "    </tr>\n",
       "    <tr>\n",
       "      <th>3</th>\n",
       "      <td>(更新：男單決賽)15:11男子世界排名前2中國2名好手球王馬龍、20歲新星樊振東重演世界錦...</td>\n",
       "      <td>【更新】日本桌球公開賽　17歲中國新星首個國際賽就封后</td>\n",
       "      <td>http://www.appledaily.com.tw/realtimenews/arti...</td>\n",
       "    </tr>\n",
       "    <tr>\n",
       "      <th>4</th>\n",
       "      <td>法國精品品牌LOUIS VUITTON（路易威登，簡稱LV）的商品以卓越品質著稱，但英國《衛...</td>\n",
       "      <td>LV「義大利製造」名鞋　竟是羅馬尼亞生產的</td>\n",
       "      <td>http://www.appledaily.com.tw/realtimenews/arti...</td>\n",
       "    </tr>\n",
       "  </tbody>\n",
       "</table>\n",
       "</div>"
      ],
      "text/plain": [
       "                                             summary  \\\n",
       "0  （更新：影片）連日豪大雨，連續多次民調倒數第一的嘉義市長涂醒哲，罕見地透過區政系統問各里里長...   \n",
       "1  （更新戰況）15:288局下，2出局二、三壘有人，陽岱鋼未能把握機會，擊出三壘滾地球出局。雙...   \n",
       "2  （更新：新增影片）高雄市黃姓男子（55歲，恐嚇、毀損前科）在傳統市場賣魚多年，覺得賣魚賺不了...   \n",
       "3  (更新：男單決賽)15:11男子世界排名前2中國2名好手球王馬龍、20歲新星樊振東重演世界錦...   \n",
       "4  法國精品品牌LOUIS VUITTON（路易威登，簡稱LV）的商品以卓越品質著稱，但英國《衛...   \n",
       "\n",
       "                         title  \\\n",
       "0          吐氣揚眉「這次沒淹」　涂醒哲公開信宣揚   \n",
       "1      【更新】陽岱鋼第4打席未能建功　雙方3比3平手   \n",
       "2          「蚵仔」當暗號　魚販賣毒被逮還比Ya！   \n",
       "3  【更新】日本桌球公開賽　17歲中國新星首個國際賽就封后   \n",
       "4        LV「義大利製造」名鞋　竟是羅馬尼亞生產的   \n",
       "\n",
       "                                                 url  \n",
       "0  http://www.appledaily.com.tw/realtimenews/arti...  \n",
       "1  http://www.appledaily.com.tw/realtimenews/arti...  \n",
       "2  http://www.appledaily.com.tw/realtimenews/arti...  \n",
       "3  http://www.appledaily.com.tw/realtimenews/arti...  \n",
       "4  http://www.appledaily.com.tw/realtimenews/arti...  "
      ]
     },
     "execution_count": 22,
     "metadata": {},
     "output_type": "execute_result"
    }
   ],
   "source": [
    "\n",
    "newsdf.head()"
   ]
  },
  {
   "cell_type": "markdown",
   "metadata": {},
   "source": [
    "## 資料預處理 (文章切詞, 轉詞頻矩陣)"
   ]
  },
  {
   "cell_type": "code",
   "execution_count": 24,
   "metadata": {
    "collapsed": false
   },
   "outputs": [
    {
     "name": "stderr",
     "output_type": "stream",
     "text": [
      "Building prefix dict from the default dictionary ...\n",
      "Loading model from cache C:\\Users\\NTCB\\AppData\\Local\\Temp\\jieba.cache\n",
      "Loading model cost 1.123 seconds.\n",
      "Prefix dict has been built succesfully.\n"
     ]
    }
   ],
   "source": [
    "import jieba\n",
    "\n",
    "title_ary = []\n",
    "article_ary = []\n",
    "\n",
    "for news in newsdf.iterrows():\n",
    "    article_ary.append(' '.join(jieba.cut(news[1].summary)))\n",
    "    title_ary.append(news[1].title)"
   ]
  },
  {
   "cell_type": "code",
   "execution_count": 26,
   "metadata": {
    "collapsed": false
   },
   "outputs": [],
   "source": [
    "from sklearn.feature_extraction.text import CountVectorizer\n",
    "vectorizer = CountVectorizer()\n",
    "X = vectorizer.fit_transform(article_ary)"
   ]
  },
  {
   "cell_type": "markdown",
   "metadata": {},
   "source": [
    "## 計算 Cosine Similarity"
   ]
  },
  {
   "cell_type": "code",
   "execution_count": 27,
   "metadata": {
    "collapsed": true
   },
   "outputs": [],
   "source": [
    "from sklearn.metrics.pairwise import cosine_similarity\n",
    "cosine_similarities = cosine_similarity(X,X)"
   ]
  },
  {
   "cell_type": "markdown",
   "metadata": {},
   "source": [
    "## 資料分群"
   ]
  },
  {
   "cell_type": "code",
   "execution_count": 81,
   "metadata": {
    "collapsed": false
   },
   "outputs": [],
   "source": [
    "from sklearn.cluster import KMeans\n",
    "kmeans = KMeans(n_clusters = 23, init = 'k-means++', random_state = 123)\n",
    "y_kmeans = kmeans.fit_predict(cosine_similarities)"
   ]
  },
  {
   "cell_type": "code",
   "execution_count": 96,
   "metadata": {
    "collapsed": false
   },
   "outputs": [
    {
     "name": "stdout",
     "output_type": "stream",
     "text": [
      "台巴斷交與海峽論壇 不知今夕是何夕？\n",
      "巴拿馬副外長：與中國建交是正確決定 \n",
      "俞正聲：反對一切形形色色分裂行徑\n",
      "​林青弘專欄：兩岸不同中國 習近平要覺醒\n",
      "一張圖表帶你看　巴拿馬斷交欺矇我國的五大手法\n",
      "閉門會面洪秀柱　俞正聲：兩岸終究會統一\n",
      "洪秀柱會俞正聲：兩岸不可能只交流　卻不解決政治爭議\n",
      "柱柱姊參加海峽論壇　俞正聲：兩岸非國與國關係\n",
      "巴拿馬欺矇手法大公開　斷交四小時前還丟煙幕彈\n",
      "巴拿馬副總統：多年前就想和中國建交\n",
      "【斷交解密】政府高層：巴拿馬總統等4人密謀\n",
      "巴拿馬斷交　官員：台巴FTA暫時仍有效 \n",
      "台巴斷交　綠委直諫：不應只局限抵制中國\n",
      "國家主權，一退則潰\n",
      "山東農民亂丟菸頭　燒掉自家5畝田\n",
      "比起民進黨 中國更放心不下國民黨\n",
      "【財訊】梁寶華：雨過之後天不晴\n",
      "​中共打壓 成了誰的利多？\n",
      "港中聯辦：香港與中國發展不同政治　是幻覺\n",
      "這些台灣女孩在中國　直播告訴大家中國之美\n"
     ]
    }
   ],
   "source": [
    "import numpy \n",
    "from collections import Counter\n",
    "#title_npary = numpy.array(title_ary)\n",
    "Counter(y_kmeans)\n",
    "for ele in title_npary[y_kmeans == 10]:\n",
    "    print(ele)"
   ]
  },
  {
   "cell_type": "code",
   "execution_count": 63,
   "metadata": {
    "collapsed": false
   },
   "outputs": [],
   "source": [
    "import matplotlib.pyplot as plt\n",
    "from sklearn import metrics\n",
    "sil = []\n",
    "for i in range(2, 30):\n",
    "    kmeans = KMeans(n_clusters = i, init = 'k-means++', random_state = 42)\n",
    "    y_kmeans = kmeans.fit_predict(X)\n",
    "    sil.append(metrics.silhouette_score(X, y_kmeans))\n"
   ]
  },
  {
   "cell_type": "code",
   "execution_count": 77,
   "metadata": {
    "collapsed": false
   },
   "outputs": [
    {
     "data": {
      "text/plain": [
       "range(2, 30)"
      ]
     },
     "execution_count": 77,
     "metadata": {},
     "output_type": "execute_result"
    }
   ],
   "source": [
    "range(2, 30)"
   ]
  },
  {
   "cell_type": "code",
   "execution_count": 69,
   "metadata": {
    "collapsed": false
   },
   "outputs": [
    {
     "data": {
      "text/plain": [
       "[0.68657755009668642,\n",
       " 0.3265812478092659,\n",
       " 0.29924662504736149,\n",
       " 0.29019646204313754,\n",
       " 0.017261087301740592,\n",
       " 0.16561387252464285,\n",
       " 0.27135632273781324,\n",
       " 0.10730117375395527,\n",
       " -0.046533520029896684,\n",
       " -0.06070595588319546,\n",
       " -0.098024056781721339,\n",
       " 0.18620392566245481,\n",
       " -0.046606390591212861,\n",
       " -0.030054075385257135,\n",
       " -0.037996056879595973,\n",
       " 0.10482090141233751,\n",
       " 0.14401320471278178,\n",
       " -0.028394305861380177,\n",
       " 0.14754805219223815,\n",
       " 0.088470719322087971,\n",
       " -0.16017816556604708,\n",
       " 0.12900143204329928,\n",
       " -0.14988283050084425,\n",
       " 0.096258252593387661,\n",
       " 0.075358885954781213,\n",
       " -0.16501825604160034,\n",
       " 0.04770845357691518,\n",
       " 0.034887093412729088]"
      ]
     },
     "execution_count": 69,
     "metadata": {},
     "output_type": "execute_result"
    }
   ],
   "source": [
    "sil"
   ]
  },
  {
   "cell_type": "code",
   "execution_count": 80,
   "metadata": {
    "collapsed": false
   },
   "outputs": [
    {
     "data": {
      "image/png": "[encoded data removed]",
      "text/plain": [
       "<matplotlib.figure.Figure at 0x113dc8b0>"
      ]
     },
     "metadata": {},
     "output_type": "display_data"
    }
   ],
   "source": [
    "plt.plot(range(2,30), sil,)\n",
    "plt.xlim([0,30])\n",
    "plt.title('The Silhouette Method')\n",
    "plt.xlabel('Number of Clusters')\n",
    "plt.ylabel('Silhouette Coefficient')\n",
    "plt.show()"
   ]
  },
  {
   "cell_type": "markdown",
   "metadata": {},
   "source": [
    "## 文字探勘"
   ]
  },
  {
   "cell_type": "code",
   "execution_count": 97,
   "metadata": {
    "collapsed": false
   },
   "outputs": [
    {
     "data": {
      "text/plain": [
       "['this', 'is', 'a', 'book']"
      ]
     },
     "execution_count": 97,
     "metadata": {},
     "output_type": "execute_result"
    }
   ],
   "source": [
    "a = 'this is a book'\n",
    "a.split()"
   ]
  },
  {
   "cell_type": "code",
   "execution_count": 98,
   "metadata": {
    "collapsed": true
   },
   "outputs": [],
   "source": [
    "b = '今天天氣真好' "
   ]
  },
  {
   "cell_type": "code",
   "execution_count": 99,
   "metadata": {
    "collapsed": false
   },
   "outputs": [
    {
     "name": "stdout",
     "output_type": "stream",
     "text": [
      "Requirement already satisfied: jieba in c:\\programdata\\anaconda3\\lib\\site-packages\n"
     ]
    }
   ],
   "source": [
    "! pip install jieba"
   ]
  },
  {
   "cell_type": "code",
   "execution_count": 100,
   "metadata": {
    "collapsed": false
   },
   "outputs": [
    {
     "name": "stdout",
     "output_type": "stream",
     "text": [
      "今天\n",
      "天氣\n",
      "真好\n"
     ]
    }
   ],
   "source": [
    "import jieba\n",
    "for ele in jieba.cut(b):\n",
    "    print(ele)"
   ]
  },
  {
   "cell_type": "code",
   "execution_count": 101,
   "metadata": {
    "collapsed": true
   },
   "outputs": [],
   "source": [
    "jieba.add_word('何壽川')"
   ]
  },
  {
   "cell_type": "code",
   "execution_count": 102,
   "metadata": {
    "collapsed": true
   },
   "outputs": [],
   "source": [
    "sentence = ['何壽川遭聲押　邱正雄緊急代理永豐金董事長','何壽川涉弊案　永豐金、金管會下周一嚴陣以待']\n",
    "seg_ary =[]\n",
    "for s in sentence:\n",
    "    seg_ary.append(' '.join([w for w in jieba.cut(s)]))"
   ]
  },
  {
   "cell_type": "code",
   "execution_count": 103,
   "metadata": {
    "collapsed": true
   },
   "outputs": [],
   "source": [
    "from sklearn.feature_extraction.text import CountVectorizer\n",
    "vectorizer = CountVectorizer()\n",
    "X = vectorizer.fit_transform(seg_ary)"
   ]
  },
  {
   "cell_type": "code",
   "execution_count": 104,
   "metadata": {
    "collapsed": false
   },
   "outputs": [
    {
     "name": "stdout",
     "output_type": "stream",
     "text": [
      "['下周一', '代理', '以待', '何壽川', '嚴陣', '正雄', '永豐金', '涉弊', '緊急', '董事', '遭聲', '金管會']\n"
     ]
    },
    {
     "data": {
      "text/plain": [
       "array([[0, 1, 0, 1, 0, 1, 1, 0, 1, 1, 1, 0],\n",
       "       [1, 0, 1, 1, 1, 0, 1, 1, 0, 0, 0, 1]], dtype=int64)"
      ]
     },
     "execution_count": 104,
     "metadata": {},
     "output_type": "execute_result"
    }
   ],
   "source": [
    "print(vectorizer.get_feature_names())\n",
    "X.toarray()"
   ]
  },
  {
   "cell_type": "code",
   "execution_count": 105,
   "metadata": {
    "collapsed": true
   },
   "outputs": [],
   "source": [
    "from sklearn.metrics.pairwise import cosine_similarity\n",
    "cosine_similarities = cosine_similarity(X,X)"
   ]
  },
  {
   "cell_type": "code",
   "execution_count": 106,
   "metadata": {
    "collapsed": false
   },
   "outputs": [
    {
     "data": {
      "text/plain": [
       "array([[ 1.        ,  0.28571429],\n",
       "       [ 0.28571429,  1.        ]])"
      ]
     },
     "execution_count": 106,
     "metadata": {},
     "output_type": "execute_result"
    }
   ],
   "source": [
    "cosine_similarities"
   ]
  },
  {
   "cell_type": "markdown",
   "metadata": {},
   "source": [
    "## 文字分類"
   ]
  },
  {
   "cell_type": "code",
   "execution_count": 109,
   "metadata": {
    "collapsed": true
   },
   "outputs": [],
   "source": [
    "import requests\n",
    "from bs4 import BeautifulSoup\n",
    "domain = 'http://www.appledaily.com.tw'\n",
    "category_ary = []\n",
    "for i in range(1,40):\n",
    "    res = requests.get('http://www.appledaily.com.tw/realtimenews/section/new/{}'.format(i))\n",
    "    soup = BeautifulSoup(res.text, 'html.parser')\n",
    "    for a in soup.select('.rtddt a'):\n",
    "        category_ary.append({'category':a.select('h2')[0].text,'url':domain + a['href']})"
   ]
  },
  {
   "cell_type": "code",
   "execution_count": 111,
   "metadata": {
    "collapsed": false
   },
   "outputs": [],
   "source": [
    "cat_df = pandas.DataFrame(category_ary)\n",
    "#cat_df"
   ]
  },
  {
   "cell_type": "code",
   "execution_count": 115,
   "metadata": {
    "collapsed": false
   },
   "outputs": [],
   "source": [
    "finaldf = pandas.merge(newsdf, cat_df, left_on = 'url', right_on = 'url')"
   ]
  },
  {
   "cell_type": "code",
   "execution_count": 136,
   "metadata": {
    "collapsed": true
   },
   "outputs": [],
   "source": [
    "finaldf.to_excel('news_final.xlsx')"
   ]
  },
  {
   "cell_type": "code",
   "execution_count": null,
   "metadata": {
    "collapsed": true
   },
   "outputs": [],
   "source": [
    "pandas.read_excel('news_final.xlsx')"
   ]
  },
  {
   "cell_type": "code",
   "execution_count": 119,
   "metadata": {
    "collapsed": false
   },
   "outputs": [],
   "source": [
    "df = finaldf[(finaldf['category'] == '社會') |  (finaldf['category'] == '財經')]"
   ]
  },
  {
   "cell_type": "code",
   "execution_count": 121,
   "metadata": {
    "collapsed": false
   },
   "outputs": [],
   "source": [
    "import jieba\n",
    "\n",
    "cat_ary = []\n",
    "title_ary = []\n",
    "article_ary = []\n",
    "\n",
    "for news in df.iterrows():\n",
    "    article_ary.append(' '.join(jieba.cut(news[1].summary)))\n",
    "    title_ary.append(news[1].title)\n",
    "    cat_ary.append( 0 if news[1].category == '社會' else 1)"
   ]
  },
  {
   "cell_type": "code",
   "execution_count": 125,
   "metadata": {
    "collapsed": true
   },
   "outputs": [],
   "source": [
    "from sklearn.feature_extraction.text import CountVectorizer\n",
    "vectorizer = CountVectorizer()\n",
    "X = vectorizer.fit_transform(article_ary)"
   ]
  },
  {
   "cell_type": "code",
   "execution_count": 132,
   "metadata": {
    "collapsed": false
   },
   "outputs": [
    {
     "data": {
      "text/plain": [
       "MultinomialNB(alpha=0.8, class_prior=None, fit_prior=True)"
      ]
     },
     "execution_count": 132,
     "metadata": {},
     "output_type": "execute_result"
    }
   ],
   "source": [
    "from sklearn.naive_bayes import MultinomialNB\n",
    "clf = MultinomialNB(alpha =0.8)\n",
    "clf.fit(X, cat_ary)"
   ]
  },
  {
   "cell_type": "code",
   "execution_count": 133,
   "metadata": {
    "collapsed": true
   },
   "outputs": [],
   "source": [
    "pred = clf.predict(X)"
   ]
  },
  {
   "cell_type": "code",
   "execution_count": 135,
   "metadata": {
    "collapsed": false
   },
   "outputs": [
    {
     "data": {
      "text/plain": [
       "array([[163,   0],\n",
       "       [  0,  60]])"
      ]
     },
     "execution_count": 135,
     "metadata": {},
     "output_type": "execute_result"
    }
   ],
   "source": [
    "from sklearn.metrics import confusion_matrix\n",
    "confusion_matrix(cat_ary, pred)"
   ]
  }
 ],
 "metadata": {
  "kernelspec": {
   "display_name": "Python 3",
   "language": "python",
   "name": "python3"
  },
  "language_info": {
   "codemirror_mode": {
    "name": "ipython",
    "version": 3
   },
   "file_extension": ".py",
   "mimetype": "text/x-python",
   "name": "python",
   "nbconvert_exporter": "python",
   "pygments_lexer": "ipython3",
   "version": "3.6.0"
  }
 },
 "nbformat": 4,
 "nbformat_minor": 2
}
