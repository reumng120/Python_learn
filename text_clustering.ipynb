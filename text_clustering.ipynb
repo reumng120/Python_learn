{
 "cells": [
  {
   "cell_type": "markdown",
   "metadata": {},
   "source": [
    "## 寫爬蟲抓蘋果新聞"
   ]
  },
  {
   "cell_type": "code",
   "execution_count": 5,
   "metadata": {
    "collapsed": false
   },
   "outputs": [],
   "source": [
    "import requests\n",
    "from bs4 import BeautifulSoup\n",
    "domain = 'http://www.appledaily.com.tw'\n",
    "url_ary = []\n",
    "for i in range(1,40):\n",
    "    res = requests.get('http://www.appledaily.com.tw/realtimenews/section/new/{}'.format(i))\n",
    "    soup = BeautifulSoup(res.text, 'html.parser')\n",
    "    for a in soup.select('.rtddt a'):\n",
    "        url_ary.append(domain + a['href'])"
   ]
  },
  {
   "cell_type": "code",
   "execution_count": 10,
   "metadata": {
    "collapsed": false
   },
   "outputs": [],
   "source": [
    "#print(url_ary)"
   ]
  },
  {
   "cell_type": "code",
   "execution_count": 12,
   "metadata": {
    "collapsed": false
   },
   "outputs": [],
   "source": [
    "articles = []\n",
    "#url = 'http://www.appledaily.com.tw/realtimenews/article/international/20170616/1141992/%E6%B8%AF%E8%AD%B0%E5%93%A1%E8%A2%AB%E6%8C%87%E6%94%B6%E5%8F%97%E9%BB%8E%E6%99%BA%E8%8B%B1%E6%8D%90%E6%AC%BE%E6%A1%88%E3%80%80%E4%B8%8B%E6%9C%8831%E6%97%A5%E8%A3%81%E6%B1%BA'\n",
    "for url in url_ary:\n",
    "    try:\n",
    "        dic = {}\n",
    "        res = requests.get(url)\n",
    "        soup = BeautifulSoup(res.text, 'html.parser')\n",
    "        dic['title'] = soup.select('#h1')[0].text\n",
    "        dic['summary']=soup.select('#summary')[0].text\n",
    "        dic['url'] = url\n",
    "        articles.append(dic)\n",
    "    except:\n",
    "        pass"
   ]
  },
  {
   "cell_type": "code",
   "execution_count": 18,
   "metadata": {
    "collapsed": true
   },
   "outputs": [],
   "source": [
    "import pandas\n",
    "newsdf = pandas.DataFrame(articles)\n",
    "newsdf = newdf.drop_duplicates()\n",
    "newsdf.to_excel('news.xlsx')"
   ]
  },
  {
   "cell_type": "markdown",
   "metadata": {},
   "source": [
    "## 讀取新聞資料"
   ]
  },
  {
   "cell_type": "code",
   "execution_count": 21,
   "metadata": {
    "collapsed": true
   },
   "outputs": [],
   "source": [
    "import pandas\n",
    "newsdf = pandas.read_excel('news.xlsx')"
   ]
  },
  {
   "cell_type": "code",
   "execution_count": 22,
   "metadata": {
    "collapsed": false
   },
   "outputs": [
    {
     "data": {
      "text/html": [
       "<div>\n",
       "<table border=\"1\" class=\"dataframe\">\n",
       "  <thead>\n",
       "    <tr style=\"text-align: right;\">\n",
       "      <th></th>\n",
       "      <th>summary</th>\n",
       "      <th>title</th>\n",
       "      <th>url</th>\n",
       "    </tr>\n",
       "  </thead>\n",
       "  <tbody>\n",
       "    <tr>\n",
       "      <th>0</th>\n",
       "      <td>（更新：影片）連日豪大雨，連續多次民調倒數第一的嘉義市長涂醒哲，罕見地透過區政系統問各里里長...</td>\n",
       "      <td>吐氣揚眉「這次沒淹」　涂醒哲公開信宣揚</td>\n",
       "      <td>http://www.appledaily.com.tw/realtimenews/arti...</td>\n",
       "    </tr>\n",
       "    <tr>\n",
       "      <th>1</th>\n",
       "      <td>（更新戰況）15:288局下，2出局二、三壘有人，陽岱鋼未能把握機會，擊出三壘滾地球出局。雙...</td>\n",
       "      <td>【更新】陽岱鋼第4打席未能建功　雙方3比3平手</td>\n",
       "      <td>http://www.appledaily.com.tw/realtimenews/arti...</td>\n",
       "    </tr>\n",
       "    <tr>\n",
       "      <th>2</th>\n",
       "      <td>（更新：新增影片）高雄市黃姓男子（55歲，恐嚇、毀損前科）在傳統市場賣魚多年，覺得賣魚賺不了...</td>\n",
       "      <td>「蚵仔」當暗號　魚販賣毒被逮還比Ya！</td>\n",
       "      <td>http://www.appledaily.com.tw/realtimenews/arti...</td>\n",
       "    </tr>\n",
       "    <tr>\n",
       "      <th>3</th>\n",
       "      <td>(更新：男單決賽)15:11男子世界排名前2中國2名好手球王馬龍、20歲新星樊振東重演世界錦...</td>\n",
       "      <td>【更新】日本桌球公開賽　17歲中國新星首個國際賽就封后</td>\n",
       "      <td>http://www.appledaily.com.tw/realtimenews/arti...</td>\n",
       "    </tr>\n",
       "    <tr>\n",
       "      <th>4</th>\n",
       "      <td>法國精品品牌LOUIS VUITTON（路易威登，簡稱LV）的商品以卓越品質著稱，但英國《衛...</td>\n",
       "      <td>LV「義大利製造」名鞋　竟是羅馬尼亞生產的</td>\n",
       "      <td>http://www.appledaily.com.tw/realtimenews/arti...</td>\n",
       "    </tr>\n",
       "  </tbody>\n",
       "</table>\n",
       "</div>"
      ],
      "text/plain": [
       "                                             summary  \\\n",
       "0  （更新：影片）連日豪大雨，連續多次民調倒數第一的嘉義市長涂醒哲，罕見地透過區政系統問各里里長...   \n",
       "1  （更新戰況）15:288局下，2出局二、三壘有人，陽岱鋼未能把握機會，擊出三壘滾地球出局。雙...   \n",
       "2  （更新：新增影片）高雄市黃姓男子（55歲，恐嚇、毀損前科）在傳統市場賣魚多年，覺得賣魚賺不了...   \n",
       "3  (更新：男單決賽)15:11男子世界排名前2中國2名好手球王馬龍、20歲新星樊振東重演世界錦...   \n",
       "4  法國精品品牌LOUIS VUITTON（路易威登，簡稱LV）的商品以卓越品質著稱，但英國《衛...   \n",
       "\n",
       "                         title  \\\n",
       "0          吐氣揚眉「這次沒淹」　涂醒哲公開信宣揚   \n",
       "1      【更新】陽岱鋼第4打席未能建功　雙方3比3平手   \n",
       "2          「蚵仔」當暗號　魚販賣毒被逮還比Ya！   \n",
       "3  【更新】日本桌球公開賽　17歲中國新星首個國際賽就封后   \n",
       "4        LV「義大利製造」名鞋　竟是羅馬尼亞生產的   \n",
       "\n",
       "                                                 url  \n",
       "0  http://www.appledaily.com.tw/realtimenews/arti...  \n",
       "1  http://www.appledaily.com.tw/realtimenews/arti...  \n",
       "2  http://www.appledaily.com.tw/realtimenews/arti...  \n",
       "3  http://www.appledaily.com.tw/realtimenews/arti...  \n",
       "4  http://www.appledaily.com.tw/realtimenews/arti...  "
      ]
     },
     "execution_count": 22,
     "metadata": {},
     "output_type": "execute_result"
    }
   ],
   "source": [
    "\n",
    "newsdf.head()"
   ]
  },
  {
   "cell_type": "markdown",
   "metadata": {},
   "source": [
    "## 資料預處理 (文章切詞, 轉詞頻矩陣)"
   ]
  },
  {
   "cell_type": "code",
   "execution_count": 24,
   "metadata": {
    "collapsed": false
   },
   "outputs": [
    {
     "name": "stderr",
     "output_type": "stream",
     "text": [
      "Building prefix dict from the default dictionary ...\n",
      "Loading model from cache C:\\Users\\NTCB\\AppData\\Local\\Temp\\jieba.cache\n",
      "Loading model cost 1.123 seconds.\n",
      "Prefix dict has been built succesfully.\n"
     ]
    }
   ],
   "source": [
    "import jieba\n",
    "\n",
    "title_ary = []\n",
    "article_ary = []\n",
    "\n",
    "for news in newsdf.iterrows():\n",
    "    article_ary.append(' '.join(jieba.cut(news[1].summary)))\n",
    "    title_ary.append(news[1].title)"
   ]
  },
  {
   "cell_type": "code",
   "execution_count": 26,
   "metadata": {
    "collapsed": false
   },
   "outputs": [],
   "source": [
    "from sklearn.feature_extraction.text import CountVectorizer\n",
    "vectorizer = CountVectorizer()\n",
    "X = vectorizer.fit_transform(article_ary)"
   ]
  },
  {
   "cell_type": "markdown",
   "metadata": {},
   "source": [
    "## 計算 Cosine Similarity"
   ]
  },
  {
   "cell_type": "code",
   "execution_count": 27,
   "metadata": {
    "collapsed": true
   },
   "outputs": [],
   "source": [
    "from sklearn.metrics.pairwise import cosine_similarity\n",
    "cosine_similarities = cosine_similarity(X,X)"
   ]
  },
  {
   "cell_type": "markdown",
   "metadata": {},
   "source": [
    "## 資料分群"
   ]
  },
  {
   "cell_type": "code",
   "execution_count": 46,
   "metadata": {
    "collapsed": false
   },
   "outputs": [],
   "source": [
    "from sklearn.cluster import KMeans\n",
    "kmeans = KMeans(n_clusters = 30, init = 'k-means++', random_state = 123)\n",
    "y_kmeans = kmeans.fit_predict(cosine_similarities)"
   ]
  },
  {
   "cell_type": "code",
   "execution_count": 61,
   "metadata": {
    "collapsed": false
   },
   "outputs": [
    {
     "name": "stdout",
     "output_type": "stream",
     "text": [
      "​對陳水扁要以兩公約精神依病治理\n",
      "扁醫師轟中監侵犯醫療人權　法務部：支持中監\n",
      "【怒轟片】扁醫陳順勝：中監哪有權利撤換醫師\n",
      "扁再出擊！　點名邱太三：敢說沒有政治力介入\n",
      "扁斥離開住所要申請形同軟禁　中監說話了\n",
      "【親筆信曝光】陳水扁怒批蔡政府：逼我死諫\n"
     ]
    }
   ],
   "source": [
    "import numpy \n",
    "from collections import Counter\n",
    "#title_npary = numpy.array(title_ary)\n",
    "Counter(y_kmeans)\n",
    "for ele in title_npary[y_kmeans == 28]:\n",
    "    print(ele)"
   ]
  },
  {
   "cell_type": "code",
   "execution_count": null,
   "metadata": {
    "collapsed": false
   },
   "outputs": [],
   "source": [
    "import matplotlib.pyplot as plt\n",
    "from sklearn import metrics\n",
    "sil = []\n",
    "for i in range(2, 30):\n",
    "    kmeans = KMeans(n_clusters = i, init = 'k-means++', random_state = 42)\n",
    "    y_kmeans = kmeans.fit_predict(X)\n",
    "    sil.append(metrics.silhouette_score(X, y_kmeans))\n"
   ]
  },
  {
   "cell_type": "code",
   "execution_count": null,
   "metadata": {
    "collapsed": true
   },
   "outputs": [],
   "source": [
    "plt.plot(range(2, 30), sil)\n",
    "plt.xlim([0,])\n",
    "plt.title('The Silhouette Method')\n",
    "plt.xlabel('Number of Clusters')\n",
    "plt.ylabel('Silhouette Coefficient')\n",
    "plt.show()"
   ]
  },
  {
   "cell_type": "markdown",
   "metadata": {},
   "source": [
    "## 文字探勘"
   ]
  },
  {
   "cell_type": "code",
   "execution_count": null,
   "metadata": {
    "collapsed": true
   },
   "outputs": [],
   "source": [
    "a = 'this is a book'\n",
    "a.split()"
   ]
  },
  {
   "cell_type": "code",
   "execution_count": null,
   "metadata": {
    "collapsed": true
   },
   "outputs": [],
   "source": [
    "b = '今天天氣真好' "
   ]
  },
  {
   "cell_type": "code",
   "execution_count": null,
   "metadata": {
    "collapsed": true
   },
   "outputs": [],
   "source": [
    "! pip install jieba"
   ]
  },
  {
   "cell_type": "code",
   "execution_count": null,
   "metadata": {
    "collapsed": true
   },
   "outputs": [],
   "source": [
    "import jieba\n",
    "for ele in jieba.cut(b):\n",
    "    print(ele)"
   ]
  },
  {
   "cell_type": "code",
   "execution_count": null,
   "metadata": {
    "collapsed": true
   },
   "outputs": [],
   "source": [
    "jieba.add_word('何壽川')"
   ]
  },
  {
   "cell_type": "code",
   "execution_count": null,
   "metadata": {
    "collapsed": true
   },
   "outputs": [],
   "source": [
    "sentence = ['何壽川遭聲押　邱正雄緊急代理永豐金董事長','何壽川涉弊案　永豐金、金管會下周一嚴陣以待']\n",
    "seg_ary =[]\n",
    "for s in sentence:\n",
    "    seg_ary.append(' '.join([w for w in jieba.cut(s)]))"
   ]
  },
  {
   "cell_type": "code",
   "execution_count": null,
   "metadata": {
    "collapsed": true
   },
   "outputs": [],
   "source": [
    "from sklearn.feature_extraction.text import CountVectorizer\n",
    "vectorizer = CountVectorizer()\n",
    "X = vectorizer.fit_transform(seg_ary)"
   ]
  },
  {
   "cell_type": "code",
   "execution_count": null,
   "metadata": {
    "collapsed": true
   },
   "outputs": [],
   "source": [
    "print(vectorizer.get_feature_names())\n",
    "X.toarray()"
   ]
  },
  {
   "cell_type": "code",
   "execution_count": null,
   "metadata": {
    "collapsed": true
   },
   "outputs": [],
   "source": [
    "from sklearn.metrics.pairwise import cosine_similarity\n",
    "cosine_similarities = cosine_similarity(X,X)"
   ]
  },
  {
   "cell_type": "code",
   "execution_count": null,
   "metadata": {
    "collapsed": true
   },
   "outputs": [],
   "source": [
    "cosine_similarities"
   ]
  }
 ],
 "metadata": {
  "kernelspec": {
   "display_name": "Python 3",
   "language": "python",
   "name": "python3"
  },
  "language_info": {
   "codemirror_mode": {
    "name": "ipython",
    "version": 3
   },
   "file_extension": ".py",
   "mimetype": "text/x-python",
   "name": "python",
   "nbconvert_exporter": "python",
   "pygments_lexer": "ipython3",
   "version": "3.6.0"
  }
 },
 "nbformat": 4,
 "nbformat_minor": 2
}
